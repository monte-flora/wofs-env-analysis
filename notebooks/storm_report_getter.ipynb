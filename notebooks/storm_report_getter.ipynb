{
 "cells": [
  {
   "cell_type": "markdown",
   "id": "e20ac1c5",
   "metadata": {},
   "source": [
    "## Download Observed Storm Reports \n",
    "\n",
    "This notebook uses the StormReportDownloader from `wofs_ml_severe` to download the \n",
    "Storm Events database based on the specified years. The Storm Events database \n",
    "are observed storm reports that have been verified/vetted. To learn about the Storm Events database, [click here](https://www.ncdc.noaa.gov/stormevents/)\n"
   ]
  },
  {
   "cell_type": "code",
   "execution_count": 1,
   "id": "7febdb6b",
   "metadata": {},
   "outputs": [],
   "source": [
    "# Download https://github.com/WarnOnForecast/wofs_ml_severe\n",
    "# change your system path.\n",
    "import sys\n",
    "sys.path.append('/home/monte.flora/python_packages/wofs_ml_severe')\n",
    "from wofs_ml_severe.data_pipeline.storm_report_downloader import StormReportDownloader\n",
    "\n",
    "from glob import glob\n",
    "from os.path import join"
   ]
  },
  {
   "cell_type": "code",
   "execution_count": 2,
   "id": "df529aa6",
   "metadata": {},
   "outputs": [],
   "source": [
    "OUTDIR = '/work/mflora/tmp'\n",
    "# The WoFS dataset spans from 2017-2021. \n",
    "years = ['2017', '2018', '2019', '2020', '2021']"
   ]
  },
  {
   "cell_type": "code",
   "execution_count": 3,
   "id": "cb92d6c6",
   "metadata": {},
   "outputs": [
    {
     "name": "stdout",
     "output_type": "stream",
     "text": [
      "Downloading https://www.ncei.noaa.gov/pub/data/swdi/stormevents/csvfiles//StormEvents_details-ftp_v1.0_d2017_c20230118.csv.gz...\n",
      "Downloading https://www.ncei.noaa.gov/pub/data/swdi/stormevents/csvfiles//StormEvents_details-ftp_v1.0_d2018_c20230118.csv.gz...\n",
      "Downloading https://www.ncei.noaa.gov/pub/data/swdi/stormevents/csvfiles//StormEvents_details-ftp_v1.0_d2019_c20230118.csv.gz...\n",
      "Downloading https://www.ncei.noaa.gov/pub/data/swdi/stormevents/csvfiles//StormEvents_details-ftp_v1.0_d2020_c20230118.csv.gz...\n",
      "Downloading https://www.ncei.noaa.gov/pub/data/swdi/stormevents/csvfiles//StormEvents_details-ftp_v1.0_d2021_c20230120.csv.gz...\n"
     ]
    }
   ],
   "source": [
    "# This function will download the StormEvent files per year.\n",
    "downloader = StormReportDownloader(OUTDIR)\n",
    "downloader.get_storm_events(years)"
   ]
  },
  {
   "cell_type": "raw",
   "id": "bc80bc56",
   "metadata": {},
   "source": [
    "# The StormEvent database stores the timing of events in local time rather than UTC. \n",
    "# The `format_data` correctly formats the timing and combines all the individual StormEvent \n",
    "# files into a single file. This function returns a pandas.Dataframe\n",
    "paths = glob(join(OUTDIR, 'StormEvents_details*'))\n",
    "df = downloader.format_data(paths)\n",
    "\n",
    "\n",
    "df.reset_index(drop=True, inplace=True)\n",
    "df.to_csv(join(OUTDIR, f'StormEvents_{years[0]}-{years[-1]}.csv'))"
   ]
  }
 ],
 "metadata": {
  "kernelspec": {
   "display_name": "Python 3 (ipykernel)",
   "language": "python",
   "name": "python3"
  },
  "language_info": {
   "codemirror_mode": {
    "name": "ipython",
    "version": 3
   },
   "file_extension": ".py",
   "mimetype": "text/x-python",
   "name": "python",
   "nbconvert_exporter": "python",
   "pygments_lexer": "ipython3",
   "version": "3.8.15"
  }
 },
 "nbformat": 4,
 "nbformat_minor": 5
}
